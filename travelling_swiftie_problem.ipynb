{
 "cells": [
  {
   "cell_type": "code",
   "execution_count": 1,
   "metadata": {},
   "outputs": [],
   "source": [
    "import numpy as np\n",
    "from itertools import permutations"
   ]
  },
  {
   "cell_type": "code",
   "execution_count": 2,
   "metadata": {},
   "outputs": [],
   "source": [
    "d_mat = [[0, 2.1, 2.6, 4.2, 5.0, 3.0, 2.5, 1.7, 6.3, np.inf],\n",
    "         [2.1, 0, 4.5, 4.7, 4.8, 4.7, 4.3, 2.2, 8.1, np.inf],\n",
    "         [2.6, 4.5, 0, 3.4, 5.2, 0.9, 0.8, 4.8, 4.4, np.inf],\n",
    "         [4.2, 4.7, 3.4, 0, 2.3, 3.8, 3.2, 5.5, 6.2, np.inf],\n",
    "         [5.0, 4.8, 5.2, 2.3, 0, 5.7, 5.3, 5.9, 8.2, np.inf],\n",
    "         [3.0, 4.7, 0.9, 3.8, 5.7, 0, 0.3, 4.6, 4.8, np.inf],\n",
    "         [2.5, 4.3, 0.8, 3.2, 5.3, 0.3, 0, 4.2, 5.5, np.inf],\n",
    "         [1.7, 2.2, 4.8, 5.5, 5.9, 4.6, 4.2, 0, 9.4, np.inf],\n",
    "         [6.3, 8.1, 4.4, 6.2, 8.2, 4.8, 5.5, 9.4, 0, 0],\n",
    "         [np.inf, np.inf, np.inf, np.inf, np.inf, np.inf, np.inf, np.inf, np.inf, 0]]\n",
    "stops = [\"Camden Market\", \"Highgate\", \"West End\", \"Shoreditch\", \"Hackney\", \"Bond Street\", \"SoHo\", \"Hampstead Heath\", \"Brixton\", \"Dummy End\"]"
   ]
  },
  {
   "cell_type": "code",
   "execution_count": 3,
   "metadata": {},
   "outputs": [],
   "source": [
    "def travelling_swiftie_problem(d_mat, stops):\n",
    "    n = len(d_mat)\n",
    "    best_cost = [np.inf]\n",
    "    best_path = []\n",
    "    best_distances = []\n",
    "    for permutation in list(permutations(range(0, n), n)):\n",
    "        path = list(permutation)\n",
    "        distances = [d_mat[path[i]][path[i+1]] for i in range(n-1)]\n",
    "        cost = sum(distances)\n",
    "        if cost == best_cost:\n",
    "            best_cost.append(cost)\n",
    "            best_path.append(path)\n",
    "            best_distances.append(distances)\n",
    "        elif cost < best_cost[0]:\n",
    "            best_cost = [cost]\n",
    "            best_path = [path]\n",
    "            best_distances = [distances]\n",
    "    ordered_stops = [[stops[i] for i in path] for path in best_path]\n",
    "\n",
    "    print(f\"The shortet distance travelled is: {best_cost} miles.\")\n",
    "    print(f\"The path taken is: {ordered_stops}\")\n",
    "    print(f\"The distances travelled between stops are: {best_distances}\")"
   ]
  },
  {
   "cell_type": "code",
   "execution_count": 4,
   "metadata": {},
   "outputs": [
    {
     "name": "stdout",
     "output_type": "stream",
     "text": [
      "The shortet distance travelled is: [19.0] miles.\n",
      "The path taken is: [['Hackney', 'Shoreditch', 'Highgate', 'Hampstead Heath', 'Camden Market', 'SoHo', 'Bond Street', 'West End', 'Brixton', 'Dummy End']]\n",
      "The distances travelled between stops are: [[2.3, 4.7, 2.2, 1.7, 2.5, 0.3, 0.9, 4.4, 0]]\n"
     ]
    }
   ],
   "source": [
    "travelling_swiftie_problem(d_mat, stops)"
   ]
  },
  {
   "cell_type": "code",
   "execution_count": null,
   "metadata": {},
   "outputs": [],
   "source": []
  }
 ],
 "metadata": {
  "kernelspec": {
   "display_name": "swiftie_problem",
   "language": "python",
   "name": "python3"
  },
  "language_info": {
   "codemirror_mode": {
    "name": "ipython",
    "version": 3
   },
   "file_extension": ".py",
   "mimetype": "text/x-python",
   "name": "python",
   "nbconvert_exporter": "python",
   "pygments_lexer": "ipython3",
   "version": "3.9.7"
  }
 },
 "nbformat": 4,
 "nbformat_minor": 2
}
